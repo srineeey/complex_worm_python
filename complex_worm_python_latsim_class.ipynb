{
 "cells": [
  {
   "cell_type": "code",
   "execution_count": 1,
   "metadata": {},
   "outputs": [
    {
     "data": {
      "text/plain": [
       "'\\nfrom tqdm.notebook import tqdm\\n'"
      ]
     },
     "execution_count": 1,
     "metadata": {},
     "output_type": "execute_result"
    }
   ],
   "source": [
    "import numpy as np\n",
    "import scipy as scp\n",
    "import pandas as pd\n",
    "import matplotlib.pyplot as plt\n",
    "import seaborn as sns\n",
    "from numba import jit\n",
    "from numba import cuda\n",
    "\n",
    "import os\n",
    "import glob\n",
    "import time\n",
    "import IPython.display\n",
    "\n",
    "from lat_class import *\n",
    "\"\"\"\n",
    "from tqdm.notebook import tqdm\n",
    "\"\"\""
   ]
  },
  {
   "cell_type": "code",
   "execution_count": 2,
   "metadata": {},
   "outputs": [
    {
     "name": "stdout",
     "output_type": "stream",
     "text": [
      "[2 2 3 3]\n"
     ]
    }
   ],
   "source": [
    "kl_sim = lattice_sim()"
   ]
  },
  {
   "cell_type": "code",
   "execution_count": null,
   "metadata": {},
   "outputs": [
    {
     "data": {
      "image/png": "[encoded data removed]",
      "text/plain": [
       "<Figure size 432x288 with 1 Axes>"
      ]
     },
     "metadata": {
      "needs_background": "light"
     },
     "output_type": "display_data"
    },
    {
     "name": "stdout",
     "output_type": "stream",
     "text": [
      "before extend: head: [2 1], tail: [2 2]\n",
      "proposing dir_i 0\n",
      "proposing sign 1\n",
      "possibly invalid link index: [0 2 1]\n",
      "valid link index: [0 1 1]\n",
      "proposing move 2\n",
      "proposing move [-1  0]\n",
      "prop_head [1 1]\n",
      "k change 1\n",
      "k_old 0\n",
      "k_change 1\n",
      "k_prop 1\n",
      "k change 1\n",
      "p 1.0\n",
      "accepted\n",
      "updating links[[0 1 1]] += 1\n",
      "updating f[[2 1]] += 2\n",
      "head [2 1]\n",
      "prop_head [1 1]\n",
      "updating f[[1 1]] += 2\n",
      "after extend: head: [1 1], tail: [2 2]\n"
     ]
    }
   ],
   "source": [
    "\"\"\"main worm loop\"\"\"\n",
    "#num_iter = 20\n",
    "update_obs_worms = 5\n",
    "\n",
    "n_worms = 0\n",
    "max_n_worms = 5\n",
    "\n",
    "#randomnly initialize rand_delta\n",
    "#rand_delta = np.random.choice([-1,1])\n",
    "#rand_delta = np.sign(np.random.randint(-1,1))\n",
    "rand_delta = np.random.randint(0,1)*2 - 1\n",
    "print(f\"rand value: {rand_delta}\")\n",
    "\n",
    "\"\"\"cant access df from function!!\"\"\"\n",
    "#change in f to be kept track of\n",
    "\n",
    "\n",
    "\n",
    "#limit the number of iteration/worms\n",
    "#for i in range(num_iter):\n",
    "    #print(f\"Iteration {i}\")\n",
    "while n_worms < max_n_worms:\n",
    "    print(f\"f {kl_sim.f}\")\n",
    "    print(f\"k {kl_sim.k_links}\")\n",
    "    \n",
    "    #print the position of the worms head and tail\n",
    "    kl_sim.print_env_worm(kl_sim.lat_size, kl_sim.head, kl_sim.tail)\n",
    "    print(f\"before extend: head: {kl_sim.head}, tail: {kl_sim.tail}\")\n",
    "    \n",
    "    #worm has not yet started\n",
    "    started = False\n",
    "    #repeatedly propose moves until one of them gets accepted\n",
    "    while started == False:\n",
    "        #randomly chooses a move\n",
    "        #that is\n",
    "        #dir_i [0,dim)\n",
    "        #sign [0,1]\n",
    "        #dir_i is written into worm_link_coord[0]\n",
    "        print(f\"prop_head {kl_sim.prop_head}\")\n",
    "        \n",
    "        #kl_sim.propose_move(kl_sim.dir_i, kl_sim.sign, kl_sim.move_i, kl_sim.move_set, kl_sim.head, kl_sim.prop_head, kl_sim.worm_link_coord, kl_sim.k_delta, kl_sim.k_change, kl_sim.lat_size, kl_sim.dim)\n",
    "        kl_sim.propose_move(kl_sim.dir_i, kl_sim.sign, kl_sim.move_i, kl_sim.move_set, kl_sim.head, kl_sim.prop_head, kl_sim.worm_link_coord, kl_sim.k_delta, kl_sim.changes, kl_sim.lat_size, kl_sim.dim)\n",
    "        \n",
    "        \n",
    "        #get acceptance probability\n",
    "        #p = kl_sim.get_prob_k(kl_sim.l_links, kl_sim.k_links, kl_sim.mu, kl_sim.head, kl_sim.prop_head, kl_sim.tail, kl_sim.worm_link_coord, kl_sim.k_change, kl_sim.W, kl_sim.f, kl_sim.df)\n",
    "        p = kl_sim.get_prob_k(kl_sim.l_links, kl_sim.k_links, kl_sim.mu, kl_sim.head, kl_sim.prop_head, kl_sim.tail, kl_sim.worm_link_coord, kl_sim.changes, kl_sim.W, kl_sim.f)\n",
    "        p = 1.\n",
    "        print(f\"p {p}\")\n",
    "\n",
    "        #accept or reject move\n",
    "        if np.random.uniform() < p:\n",
    "            print(\"accepted\")\n",
    "            #accept\n",
    "            #update links\n",
    "            kl_sim.update_link(kl_sim.k_links, kl_sim.worm_link_coord, kl_sim.changes[2])\n",
    "            \n",
    "            #dont update f at the start so that f is even\n",
    "            #but store the value for later\n",
    "            kl_sim.changes[0] = kl_sim.changes[1]\n",
    "            \n",
    "            #extend head\n",
    "            #kl_sim.extend(kl_sim.head, kl_sim.worm_link_coord, kl_sim.move_i, kl_sim.move_set, kl_sim.lat_size, kl_sim.dim)\n",
    "            kl_sim.set_head(kl_sim.head, kl_sim.prop_head)\n",
    "\n",
    "            #update f at new site!\n",
    "            #kl_sim.update_f_df(kl_sim.f, kl_sim.head, kl_sim.df)\n",
    "            kl_sim.update_f_df(kl_sim.f, kl_sim.head, kl_sim.changes[1])\n",
    "\n",
    "            print(f\"after extend: head: {kl_sim.head}, tail: {kl_sim.tail}\")\n",
    "            started = True\n",
    "        else:\n",
    "            #reject\n",
    "            print(\"rejected\")\n",
    "    \n",
    "    print(\"starting worm\")\n",
    "    input(\"Press Enter to continue...\") \n",
    "    time.sleep(1.0)\n",
    "    IPython.display.clear_output(wait=True)\n",
    "    \n",
    "    #run the worm while it forms an open path\n",
    "    while not kl_sim.check_head_tail(kl_sim.head, kl_sim.tail):\n",
    "        \n",
    "        kl_sim.print_env_worm(kl_sim.lat_size, kl_sim.head, kl_sim.tail)\n",
    "        print(f\"before extend: head: {kl_sim.head}, tail: {kl_sim.tail}\")\n",
    "        \n",
    "        #move_i = propose_move(n_moves_gpu)\n",
    "        #randomly chooses a move\n",
    "        #that is\n",
    "        #dir_i [0,dim)\n",
    "        #sign [0,1]\n",
    "        \"\"\"not updating k_change in class!!!\"\"\"\n",
    "        kl_sim.propose_move(kl_sim.dir_i, kl_sim.sign, kl_sim.move_i, kl_sim.move_set, kl_sim.head, kl_sim.prop_head, kl_sim.worm_link_coord, kl_sim.k_delta, kl_sim.changes, kl_sim.lat_size, kl_sim.dim)\n",
    "        \n",
    "        #get acceptance probability\n",
    "        \"\"\"kchange has defautl value!!!\"\"\"\n",
    "        #p = kl_sim.get_prob_k(kl_sim.l_links, kl_sim.k_links, kl_sim.mu, kl_sim.head, kl_sim.prop_head, kl_sim.tail, kl_sim.worm_link_coord, kl_sim.k_change, kl_sim.W, kl_sim.f, kl_sim.df)\n",
    "        p = kl_sim.get_prob_k(kl_sim.l_links, kl_sim.k_links, kl_sim.mu, kl_sim.head, kl_sim.prop_head, kl_sim.tail, kl_sim.worm_link_coord, kl_sim.changes, kl_sim.W, kl_sim.f)\n",
    "        p = 1.\n",
    "        print(f\"p {p}\")\n",
    "\n",
    "        #accept or reject move\n",
    "        if np.random.uniform() < p:\n",
    "            print(\"accepted\")\n",
    "            #accept\n",
    "            #update links\n",
    "            kl_sim.update_link(kl_sim.k_links, kl_sim.worm_link_coord, kl_sim.changes[2])\n",
    "\n",
    "            #update f at old site!\n",
    "            #kl_sim.update_f_df(kl_sim.f, kl_sim.head, kl_sim.df)\n",
    "            kl_sim.update_f_df(kl_sim.f, kl_sim.head, kl_sim.changes[1])\n",
    "\n",
    "            #extend head\n",
    "            #kl_sim.extend(kl_sim.head, kl_sim.worm_link_coord, kl_sim.move_i, kl_sim.move_set, kl_sim.lat_size, kl_sim.dim)\n",
    "            kl_sim.set_head(kl_sim.head, kl_sim.prop_head)\n",
    "\n",
    "            #update f at new site!\n",
    "            #kl_sim.update_f_df(kl_sim.f, kl_sim.head, kl_sim.df)\n",
    "            kl_sim.update_f_df(kl_sim.f, kl_sim.head, kl_sim.changes[1])\n",
    "\n",
    "            print(f\"after extend: head: {kl_sim.head}, tail: {kl_sim.tail}\")\n",
    "        else:\n",
    "            #reject\n",
    "            print(\"rejected\")\n",
    "            \n",
    "        input(\"Press Enter to continue...\")\n",
    "        time.sleep(1.0)\n",
    "        IPython.display.clear_output(wait=True)\n",
    "    \n",
    "    \n",
    "    print(\"Tail = Head!\")\n",
    "    kl_sim.print_env_worm(kl_sim.lat_size, kl_sim.head, kl_sim.tail)\n",
    "\n",
    "    #worm about to close\n",
    "    #update f with initial df0\n",
    "    #kl_sim.update_f_df(kl_sim.f, kl_sim.head, kl_sim.df0)\n",
    "    kl_sim.update_f_df(kl_sim.f, kl_sim.head, kl_sim.changes[0])\n",
    "\n",
    "    #reset the worm randomly\n",
    "    kl_sim.reset_worm(kl_sim.tail, kl_sim.head, kl_sim.worm_link_coord, kl_sim.lat_size, kl_sim.dim)\n",
    "\n",
    "    #reinitialize rand_delta randomly\n",
    "    #rand_delta = np.random.choice([-1,1])\n",
    "    #rand_delta = np.sign(np.random.randint(-1,1))\n",
    "\n",
    "    #keep track of the number of worms\n",
    "    n_worms += 1\n",
    "    print(f\"nworms {n_worms}\")\n",
    "    \n",
    "    #update the observable each update_obs_worms\n",
    "    if n_worms%update_obs_worms == 0:\n",
    "        observable += update_obs(lat_links)\n",
    "        \n",
    "    input(\"Press Enter to continue...\")\n",
    "    time.sleep(1.0)\n",
    "    IPython.display.clear_output(wait=True)"
   ]
  },
  {
   "cell_type": "code",
   "execution_count": null,
   "metadata": {},
   "outputs": [],
   "source": []
  },
  {
   "cell_type": "code",
   "execution_count": null,
   "metadata": {},
   "outputs": [],
   "source": []
  },
  {
   "cell_type": "code",
   "execution_count": null,
   "metadata": {},
   "outputs": [],
   "source": []
  },
  {
   "cell_type": "code",
   "execution_count": null,
   "metadata": {},
   "outputs": [],
   "source": []
  },
  {
   "cell_type": "code",
   "execution_count": null,
   "metadata": {},
   "outputs": [],
   "source": []
  }
 ],
 "metadata": {
  "kernelspec": {
   "display_name": "Python 3",
   "language": "python",
   "name": "python3"
  },
  "language_info": {
   "codemirror_mode": {
    "name": "ipython",
    "version": 3
   },
   "file_extension": ".py",
   "mimetype": "text/x-python",
   "name": "python",
   "nbconvert_exporter": "python",
   "pygments_lexer": "ipython3",
   "version": "3.7.4"
  }
 },
 "nbformat": 4,
 "nbformat_minor": 2
}
